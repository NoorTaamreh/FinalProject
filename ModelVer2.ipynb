{
 "cells": [
  {
   "cell_type": "code",
   "execution_count": 2,
   "metadata": {},
   "outputs": [],
   "source": [
    "import numpy as np\n",
    "import pandas as pd\n",
    "from sklearn.feature_extraction.text import TfidfVectorizer\n",
    "from sklearn.model_selection import train_test_split\n",
    "from sklearn.linear_model import LogisticRegression\n",
    "from sklearn.metrics import accuracy_score\n",
    "import pickle\n"
   ]
  },
  {
   "cell_type": "code",
   "execution_count": 3,
   "metadata": {},
   "outputs": [],
   "source": [
    "NewsTest= pd.read_csv(\"data.csv\")"
   ]
  },
  {
   "cell_type": "code",
   "execution_count": 4,
   "metadata": {},
   "outputs": [],
   "source": [
    "NewsTest['Flag'] = NewsTest['Flag'].replace('credible', '1')\n",
    "NewsTest['Flag']= NewsTest['Flag'].replace('uncredible', '0')"
   ]
  },
  {
   "cell_type": "code",
   "execution_count": 5,
   "metadata": {},
   "outputs": [
    {
     "data": {
      "text/html": [
       "<div>\n",
       "<style scoped>\n",
       "    .dataframe tbody tr th:only-of-type {\n",
       "        vertical-align: middle;\n",
       "    }\n",
       "\n",
       "    .dataframe tbody tr th {\n",
       "        vertical-align: top;\n",
       "    }\n",
       "\n",
       "    .dataframe thead th {\n",
       "        text-align: right;\n",
       "    }\n",
       "</style>\n",
       "<table border=\"1\" class=\"dataframe\">\n",
       "  <thead>\n",
       "    <tr style=\"text-align: right;\">\n",
       "      <th></th>\n",
       "      <th>title</th>\n",
       "      <th>text</th>\n",
       "      <th>published date</th>\n",
       "      <th>Flag</th>\n",
       "    </tr>\n",
       "  </thead>\n",
       "  <tbody>\n",
       "    <tr>\n",
       "      <th>0</th>\n",
       "      <td>المنتخب الوطني المغربي لأقل من 20 سنة يخوض تجم...</td>\n",
       "      <td>يخوض المنتخب الوطني المغربي لكرة القدم لأقل من...</td>\n",
       "      <td>2021-05-23T00:00:00</td>\n",
       "      <td>1</td>\n",
       "    </tr>\n",
       "    <tr>\n",
       "      <th>1</th>\n",
       "      <td>وزير النقل اعمارة:السرعة عامل مسبب لحوادث السي...</td>\n",
       "      <td>ترأس عبد القادر اعمارة، وزير التجهيز و النقل و...</td>\n",
       "      <td>2021-05-22T00:00:00</td>\n",
       "      <td>1</td>\n",
       "    </tr>\n",
       "    <tr>\n",
       "      <th>2</th>\n",
       "      <td>ميسي يؤكد أن الفوز بكأس اسبانيا كان \"نقطة تحول\"</td>\n",
       "      <td>أكد النجم الارجنتيني ليونيل ميسي أن فوز فريقه ...</td>\n",
       "      <td>2021-05-22T00:00:00</td>\n",
       "      <td>1</td>\n",
       "    </tr>\n",
       "    <tr>\n",
       "      <th>3</th>\n",
       "      <td>دبلوماسي مغربي سابق بإسبانيا لـ2M.ma: خطأ مدري...</td>\n",
       "      <td>أكّد الدبلوماسي المغربي السابق بإسبانيا، عبد ا...</td>\n",
       "      <td>2021-05-22T00:00:00</td>\n",
       "      <td>1</td>\n",
       "    </tr>\n",
       "    <tr>\n",
       "      <th>4</th>\n",
       "      <td>شركتان، فرنسية وبريطانية تعلنان عن نتائج إيجاب...</td>\n",
       "      <td>أعلنت شركتا سانوفي الفرنسية العملاقة في تصنيع ...</td>\n",
       "      <td>2021-05-17T00:00:00</td>\n",
       "      <td>1</td>\n",
       "    </tr>\n",
       "  </tbody>\n",
       "</table>\n",
       "</div>"
      ],
      "text/plain": [
       "                                               title  \\\n",
       "0  المنتخب الوطني المغربي لأقل من 20 سنة يخوض تجم...   \n",
       "1  وزير النقل اعمارة:السرعة عامل مسبب لحوادث السي...   \n",
       "2    ميسي يؤكد أن الفوز بكأس اسبانيا كان \"نقطة تحول\"   \n",
       "3  دبلوماسي مغربي سابق بإسبانيا لـ2M.ma: خطأ مدري...   \n",
       "4  شركتان، فرنسية وبريطانية تعلنان عن نتائج إيجاب...   \n",
       "\n",
       "                                                text       published date Flag  \n",
       "0  يخوض المنتخب الوطني المغربي لكرة القدم لأقل من...  2021-05-23T00:00:00    1  \n",
       "1  ترأس عبد القادر اعمارة، وزير التجهيز و النقل و...  2021-05-22T00:00:00    1  \n",
       "2  أكد النجم الارجنتيني ليونيل ميسي أن فوز فريقه ...  2021-05-22T00:00:00    1  \n",
       "3  أكّد الدبلوماسي المغربي السابق بإسبانيا، عبد ا...  2021-05-22T00:00:00    1  \n",
       "4  أعلنت شركتا سانوفي الفرنسية العملاقة في تصنيع ...  2021-05-17T00:00:00    1  "
      ]
     },
     "execution_count": 5,
     "metadata": {},
     "output_type": "execute_result"
    }
   ],
   "source": [
    "NewsTest.head()"
   ]
  },
  {
   "cell_type": "markdown",
   "metadata": {},
   "source": [
    "Merging the title of the article with the text "
   ]
  },
  {
   "cell_type": "code",
   "execution_count": 6,
   "metadata": {},
   "outputs": [],
   "source": [
    "\n",
    "NewsTest['content'] = NewsTest['title']+' '+NewsTest['text']"
   ]
  },
  {
   "cell_type": "code",
   "execution_count": 7,
   "metadata": {},
   "outputs": [
    {
     "name": "stdout",
     "output_type": "stream",
     "text": [
      "0       المنتخب الوطني المغربي لأقل من 20 سنة يخوض تجم...\n",
      "1       وزير النقل اعمارة:السرعة عامل مسبب لحوادث السي...\n",
      "2       ميسي يؤكد أن الفوز بكأس اسبانيا كان \"نقطة تحول...\n",
      "3       دبلوماسي مغربي سابق بإسبانيا لـ2M.ma: خطأ مدري...\n",
      "4       شركتان، فرنسية وبريطانية تعلنان عن نتائج إيجاب...\n",
      "                              ...                        \n",
      "3995    وزارة الصحة: 247 إصابة جديدة و 8 وفيات بكورونا...\n",
      "3996    قايدي يشدد على ضرورة حماية الجزائر إلكترونيا أ...\n",
      "3997    الوزارة الأولى: هذه تفاصيل الترتيبات المتعلقة ...\n",
      "3998    بن بوزيد يعرض تجربة الجزائر في مكافحة كورونا ع...\n",
      "3999    وزارة الصحة تفتح التسجيلات للراغبين في التلقيح...\n",
      "Name: content, Length: 4000, dtype: object\n"
     ]
    }
   ],
   "source": [
    "print(NewsTest['content'])"
   ]
  },
  {
   "cell_type": "markdown",
   "metadata": {},
   "source": [
    "Separating the data & label"
   ]
  },
  {
   "cell_type": "code",
   "execution_count": 8,
   "metadata": {},
   "outputs": [],
   "source": [
    "X = NewsTest.drop(columns='Flag', axis=1)\n",
    "Y = NewsTest['Flag']"
   ]
  },
  {
   "cell_type": "code",
   "execution_count": 9,
   "metadata": {},
   "outputs": [
    {
     "name": "stdout",
     "output_type": "stream",
     "text": [
      "The content of the news                                                   title  \\\n",
      "0     المنتخب الوطني المغربي لأقل من 20 سنة يخوض تجم...   \n",
      "1     وزير النقل اعمارة:السرعة عامل مسبب لحوادث السي...   \n",
      "2       ميسي يؤكد أن الفوز بكأس اسبانيا كان \"نقطة تحول\"   \n",
      "3     دبلوماسي مغربي سابق بإسبانيا لـ2M.ma: خطأ مدري...   \n",
      "4     شركتان، فرنسية وبريطانية تعلنان عن نتائج إيجاب...   \n",
      "...                                                 ...   \n",
      "3995  وزارة الصحة: 247 إصابة جديدة و 8 وفيات بكورونا...   \n",
      "3996       قايدي يشدد على ضرورة حماية الجزائر إلكترونيا   \n",
      "3997  الوزارة الأولى: هذه تفاصيل الترتيبات المتعلقة ...   \n",
      "3998  بن بوزيد يعرض تجربة الجزائر في مكافحة كورونا ع...   \n",
      "3999  وزارة الصحة تفتح التسجيلات للراغبين في التلقيح...   \n",
      "\n",
      "                                                   text  \\\n",
      "0     يخوض المنتخب الوطني المغربي لكرة القدم لأقل من...   \n",
      "1     ترأس عبد القادر اعمارة، وزير التجهيز و النقل و...   \n",
      "2     أكد النجم الارجنتيني ليونيل ميسي أن فوز فريقه ...   \n",
      "3     أكّد الدبلوماسي المغربي السابق بإسبانيا، عبد ا...   \n",
      "4     أعلنت شركتا سانوفي الفرنسية العملاقة في تصنيع ...   \n",
      "...                                                 ...   \n",
      "3995  سجلت وزارة الصحة 247 إصابة جديدة بفيروس كورونا...   \n",
      "3996  أشرف اللواء محمد قايدي رئيس دائرة الاستعمال وا...   \n",
      "3997  ففيما يخص عدد الرحلات:\\n\\nسيتم ضمان ثلاث (03) ...   \n",
      "3998  شارك وزير الصحة و السكان و إصلاح المستشفيات، ع...   \n",
      "3999  فتحت مصالح وزارة الصحة موقعها الالكتورني لتسجي...   \n",
      "\n",
      "                 published date  \\\n",
      "0           2021-05-23T00:00:00   \n",
      "1           2021-05-22T00:00:00   \n",
      "2           2021-05-22T00:00:00   \n",
      "3           2021-05-22T00:00:00   \n",
      "4           2021-05-17T00:00:00   \n",
      "...                         ...   \n",
      "3995  2021-05-24T15:34:28+00:00   \n",
      "3996  2021-05-24T14:52:56+00:00   \n",
      "3997  2021-05-24T14:24:07+00:00   \n",
      "3998  2021-05-24T13:54:29+00:00   \n",
      "3999  2021-05-24T13:46:44+00:00   \n",
      "\n",
      "                                                content  \n",
      "0     المنتخب الوطني المغربي لأقل من 20 سنة يخوض تجم...  \n",
      "1     وزير النقل اعمارة:السرعة عامل مسبب لحوادث السي...  \n",
      "2     ميسي يؤكد أن الفوز بكأس اسبانيا كان \"نقطة تحول...  \n",
      "3     دبلوماسي مغربي سابق بإسبانيا لـ2M.ma: خطأ مدري...  \n",
      "4     شركتان، فرنسية وبريطانية تعلنان عن نتائج إيجاب...  \n",
      "...                                                 ...  \n",
      "3995  وزارة الصحة: 247 إصابة جديدة و 8 وفيات بكورونا...  \n",
      "3996  قايدي يشدد على ضرورة حماية الجزائر إلكترونيا أ...  \n",
      "3997  الوزارة الأولى: هذه تفاصيل الترتيبات المتعلقة ...  \n",
      "3998  بن بوزيد يعرض تجربة الجزائر في مكافحة كورونا ع...  \n",
      "3999  وزارة الصحة تفتح التسجيلات للراغبين في التلقيح...  \n",
      "\n",
      "[4000 rows x 4 columns]\n"
     ]
    }
   ],
   "source": [
    "print(\"The content of the news\",X)\n"
   ]
  },
  {
   "cell_type": "code",
   "execution_count": 10,
   "metadata": {},
   "outputs": [
    {
     "name": "stdout",
     "output_type": "stream",
     "text": [
      "RaelOrFake 0       1\n",
      "1       1\n",
      "2       1\n",
      "3       1\n",
      "4       1\n",
      "       ..\n",
      "3995    0\n",
      "3996    0\n",
      "3997    0\n",
      "3998    0\n",
      "3999    0\n",
      "Name: Flag, Length: 4000, dtype: object\n"
     ]
    }
   ],
   "source": [
    "print(\"RaelOrFake\",Y)"
   ]
  },
  {
   "cell_type": "code",
   "execution_count": 11,
   "metadata": {},
   "outputs": [],
   "source": [
    "#separating the data and label\n",
    "X = NewsTest['content'].values \n",
    "Y = NewsTest['Flag'].values"
   ]
  },
  {
   "cell_type": "code",
   "execution_count": 12,
   "metadata": {},
   "outputs": [
    {
     "name": "stdout",
     "output_type": "stream",
     "text": [
      "['المنتخب الوطني المغربي لأقل من 20 سنة يخوض تجمعا اعداديا بالمعمورة يخوض المنتخب الوطني المغربي لكرة القدم لأقل من 20 سنة، ما بين 24 و28 ماي الجاري تجمعا إعداديا مغلقا بمركب محمد السادس لكرة القدم بالمعمورة.\\n\\nوذكر بلاغ للجامعة الملكية المغربية لكرة القدم، أن هذا التجمع الاعدادي يدخل في إطار استعدادات النخبة الوطنية للمشاركة في البطولة العربية التي ستحتضنها مصر في الفترة المتراوحة ما بين 19 يونيو و3 يوليوز 2021.\\n\\nولهذا الغرض، وجه السيد فتحي جمال، المشرف العام على المنتخب الوطني الدعوة إلى 24 لاعبا ويتعلق الأمر بكل من :\\n\\n1- عبد الله بنتيك ......... أكاديمية محمد السادس\\n\\n2- اسماعيل لغزالي ..... أكاديمية محمد السادس\\n\\n3- أنس نناح ............... أكاديمية محمد السادس\\n\\n4- محمد أمين السهل .. أكاديمية محمد السادس\\n\\n5- حسن أكبوب ........... أكاديمية محمد السادس\\n\\n6- عمر صادق .............. أكاديمية محمد السادس\\n\\n7- عثمان شرايبي ........ أكاديمية محمد السادس\\n\\n8- محمد راديد ............. أكاديمية محمد السادس\\n\\n9- بدر أوهامي ............. النسمة السطاتية\\n\\n10- عبد اللطيف المتطوع .... شباب الصخور السوداء\\n\\n11- حسام بولاينين ........... الجيش الملكي\\n\\n12- نوفل طاهيري ............ الجيش الملكي\\n\\n13- أشرف لعزيري ........... الفتح الرياضي\\n\\n14- مختار فريطس ........... الفتح الرياضي\\n\\n15- المهدي موهوب ........ الفتح الرياضي\\n\\n16- محمد كاسو ............. أولمبيك خريبكة\\n\\n17- أنس عزيز ................ أولمبيك الدشيرة\\n\\n18- حاتم السواح ............ الرجاء الرياضي\\n\\n19- عبد الله أزرور............. الرجاء الرياضي\\n\\n20- حمزة ولد الحاج ........ نهضة بركان\\n\\n21- محمد مجاهيد .......... نهضة بركان\\n\\n22- حمزة بارودي ........... نهضة بركان\\n\\n23- ريان سيدي أحمد ..... اتحاد تواركة\\n\\n24- نسيم زيبوك ............وداد فاس'\n",
      " 'وزير النقل اعمارة:السرعة عامل مسبب لحوادث السير ومضاعف لها خاصة في المدارات الحضرية ترأس عبد القادر اعمارة، وزير التجهيز و النقل و اللوجيستك و الماء الجمعة الجلسة الافتتاحية للندوة الدولية عبر تقنية المناظرة المرئية حول موضوع السلامة الطرقية.\\n\\nوتأتي هذه الندوة حسب مانشره الوزير عبر صفحته الرسمية بموقع التواصل الاجتماعي \"فايسبوك\"ضمن الفعاليات المنظمة من طرف وزارة التجهيز و النقل و اللوجيستك و الماء و الوكالة الوطنية للسلامة الطرقية في إطار الأسبوع السادس الذي تخلده الأمم المتحدة حول السلامة الطرقية 17-23 ماي تحت شعار \"شوارع للحياة # نحب 30\".\\n\\nوأكد في مداخلته على أهمية هذا الشعار في أفق تحديد السرعة في 30 كلمتر في الساعة على المستوى الدولي في المدارات الحضرية ذات الكثافة السكانية إعتبارا لكون الدراسات العلمية و الميدانية أظهرت ان السرعة عامل مسبب لحوادث السير و كذلك عامل مضاعف لها خاصة في المدارات الحضرية.\\n\\nكما إستعرض الوزير جهود المملكة المغربية في مجال الحد من حوادث السير. شارك في هذه الندوة بالإضافة إلى عدد من الخبراء المغاربة و الأجانب عدد من عمداء المدن المغربية و عدد من الفاعلين في المجتمع المدني.'\n",
      " 'ميسي يؤكد أن الفوز بكأس اسبانيا كان \"نقطة تحول\" أكد النجم الارجنتيني ليونيل ميسي أن فوز فريقه برشلونة الاسباني بمسابقة الكأس المحلية كان \"نقطة تحو ل مهمة جدا \" في مقابلة نشرت في وسائل اعلام ارجنتينية السبت.\\n\\nوتحوم الشكوك حول مستقبل \"البرغوث الصغير\" الذي وصل عقده إلى نهايته مع ناديه الكاتالوني حيث ينتهي في 30 يونيو المقبل من دون أن يرشح أي شيء من الطرفين.\\n\\n\\n\\nولم يتطرق ميسي في حديثه مع صحيفة \"أولي\" الارجنتينية الرياضية اليومية عن مستقبله، إلا انه تحدث بحماس عن الفوز الذي حققه برشلونة على أتلتيك بلباو برباعية نظيفة في نهائي الكأس في أبريل الماضي، وهو أول لقب للنادي منذ زهاء عامين.\\n\\n\\n\\nقال الارجنتيني الذي سيبلغ 34 عاما في 24 يونيو \"الحقيقة، هي أن كأس اسبانيا الاخيرة كانت مميزة كثيرا بسبب اللحظة التي كنا نمر بها. يخرج النادي من عامين سيئين\".\\n\\n\\n\\nوتابع مشيرا إلى الجيل الجديد للاعبي برشلونة \"غرف تبديل الملابس تضم العديد من اللاعبين الشبان والجدد. هذه الكأس كانت نقطة تحول مهمة جدا . وأكثر من ذلك، على الصعيد الشخصي أحب الفوز واحراز الألقاب. وكلما زاد العدد، كان ذلك أفضل\".\\n\\n\\n\\nوتأتي مقابلة ميسي عقب قرار برشلونة بعدم مشاركة ميسي في المباراة الاخيرة للفريق في الدوري السبت ضد مضيفه ايبار، لمنحه مزيدا من الراحة قبل نهائيات كوبا أميركا.\\n\\n\\n\\nوجاء في بيان على الموقع الرسمي للنادي \"ميسي لم يتمرن الجمعة بموافقة من المدرب ولن يكون مع المجموعة في المباراة ضد ايبار السبت\".\\n\\n\\n\\nوخاض ميسي 47 مباراة هذا الموسم مع برشلونة في جميع المسابقات سجل خلالها 38 هدفا ، ويتصدر ترتيب هدافي الليغا (30) قبل مرحلة من النهاية حيث ضمن بشكل كبير الفوز بجائزة بيتشيتشي للمرة الثامنة في مسيرته.\\n\\n\\n\\nوبعد ان بلغ عدد مبارياته مع برشلونة 778 هذا الموسم، تجاوز ميسي الرقم القياسي الذي حمله زميله السابق تشافي هرنانديس مدرب السد القطري الحالي الذي تربطه تقارير بإمكانية تولي المهام على رأس الجهاز الفني في برشلونة الموسم المقبل. كما تجاوز الارجنتيني الرقم القياسي لعدد الاهداف للاعب في ناد واحد الذي كان يحمله الاسطورة البرازيلية بيليه مع سانتوس (643) ووصل الى 672 هدفا.\\n\\n'\n",
      " ...\n",
      " 'الوزارة الأولى: هذه تفاصيل الترتيبات المتعلقة بتنفيذ قرار الفتح الجزئي للحدود الجوية ففيما يخص عدد الرحلات:\\n\\nسيتم ضمان ثلاث (03) رحلات أسبوعية من وإلى فرنسا، من قبل شركة الخطوط الجوية الجزائرية:\\n\\nباريس: رحلتان (02)؛ مرسيليا: رحلة واحدة (01)؛كما ستضمن شركة الخطوط الجوية الجزائرية رحلة (01) أسبوعية من وإلى كل بلد من البلدان الآتية:\\n\\nتركيا (إسطنبول)؛إسبانيا (برشلونة)؛تونس (تونس العاصمة)؛\\n\\nووفيما يخص الـمطارات في الجزائر: يرخص في مرحلة أولى، لـمطارات الجزائر العاصمة، ووهران وقسنطينة، فقط، باستقبال المسافرين عند الوصول أو المغادرين نحو الوجهات سالفة الذكر.\\n\\nوفيما يخص شروط ركوب الـمسافرين الـمتوجهين إلى الجزائر:\\n\\nيحب أن يكون الـمسافر حاملاً لنتيجة سلبية لاختبار RT-PCR يعود تاريخه إلى أقل من 36 ساعة قبل تاريخ السفر؛\\n\\nحيازة تذكرة سفر صالحة وملئ الاستمارة الصحية بالـمعلومات الـمطلوبة؛\\n\\nالتسديد الـمسبق للتكاليف الـمتعلقة بالحجر الصحي الإجباري الذي يجب أن يخضع له كل مسافر عند وصوله إلى التراب الوطني، وكذا تكاليف اختبار الكشف عن فيروس “كوفيد ــ 19″، الـمقرّر من قبل السلطات الصحية.\\n\\nوجدير بالتوضيح أن تكاليف الإقامة على مستوى مواقع الحجر الصحي تكون على عاتق الـمسافر حصريا. ويجب أن تكون هذه الشروط مستوفاة قبل ركوب الطائرة.\\n\\nوفيما يخص الشروط الصحية الـمطبقة عند الوصول (بالجزائر):\\n\\nتقديم اختبار RT-PCR يعود تاريخه إلى أقل من 36 ساعة؛\\n\\nيجب أن يخضع الـمسافر لحجر صحي إجباري لـمدة خمسة (5) أيام في إحدى الـمؤسسات الفندقية الـمسخرة لهذا الغرض، مع مراقبة طبية دائمة؛\\n\\nتطبيق اختبار الكشف عن فيروس “كوفيد ــ 19″، في نهاية الحجر.\\n\\nيرفع الحجر في اليوم الخامس عقب اختبار سلبي للكشف عن فيروس “كوفيد ـ 19″، وفي حالة النتيجة الإيجابية، يجدّد الحجر لـمدة خمسة (5) أيام إضافية.\\n\\nوفيما يخص ظروف الحجر الصحي: تم بصفة مشتركة، بين قطاعي الداخلية والسياحة والصحة، تحديد قائمة الـمؤسسات الفندقية التي ستتوفر فيها جميع الشروط الـمطلوبة للحجر.\\n\\nوفيما يخص كيفيات مغادرة التراب الوطني، يظل الـمسافرون خاضعين فقط للشروط التي تقرّرها سلطات البلدان الـمستقبلة بالنسبة لدخولهم ترابها.\\n\\nوفي مجال الإعلام والاتصال، يتم تنفيذ حملة إعلامية واسعة بمجرد فتح الحدود الجوية قصد تسهيل التنقلات.\\n\\nوأخيراً، تكلّف شركة الخطوط الجوية الجزائرية بالقيام، من خلال موقعها الإلكتروني، بنشر كافة الـمعلومات التكميلية والتوضيحات اللازمة لتنفيذ الترتيبات الـمقرّرة.'\n",
      " 'بن بوزيد يعرض تجربة الجزائر في مكافحة كورونا على الجمعية العالمية للصحة شارك وزير الصحة و السكان و إصلاح المستشفيات، عبد الرحمن بن بوزيد، اليوم الجلسة العامة للجمعية العالمية للصحة، الافتراضية، في دورتها 74، بجنيف.\\n\\nوقال بن بوزيد: ” تنعقد الجمعية العالمية للصحة الافتراضية الـ 74 في سياق هذه الأزمة العالمية التي فرضتها جائحة كوفيد-19 منذ حوالي سنة و نصف، و التي كانت لها عواقب صحية و اقتصادية و اجتماعية بدرجات متفاوتة على جميع دول العالم. و قد كشفت هذه الأزمة الصحية عدّة نقائص في جميع الأنظمة الصحية، بما فيها الأحسن تنظيما والأكثر فعالية، الأمر الذي أظهر أنّنا لم نكن مستعدين لمواجهة كارثة صحية بهذا الحجم.\\n\\nإنّ الجزائر، التي لم تسلم كغيرها من دول العالم، سرعان ما اتخذت إجراءات لمواجهة هذا التحدي الصحي، على أعلى مستوى في الدولة بإنشاء خلية أزمة قطاعية مشتركة يرأسها السيد الوزير الأول، و لجنة متابعة و تنسيق بوزارة الصحة و لجنة علمية مكلّفة بمتابعة و تحليل الوضع الوبائي و توجيه قرارات الاستجابة لكوفيد-19 و ذلك في مجالات الوقاية و التكفل.\\n\\nو قد مكّن هذا الالتزام السياسي على أعلى مستوى في الدولة من اتخاذ إجراءات قوية ساهمت في الحفاظ على استقرار الوضع الوبائي. واضاف بن بوزيد: علينا أن نستخلص الدروس من هذه الجائحة من أجل إرساء بشكل أفضل منظومات صحية أكثر مرونة و قدرة على الاستجابة لكلّ ظاهرة صحية غير معتادة.\\n\\nمن واجب كلّ واحد منّا التحلي بروح التضامن في هذا السياق الخاصّ بالتلقيح ضدّ كوفيد-19، و الانصاف في فرص الحصول عليه للجميع، من خلال الآليات المعروفة أو التعاون الثنائي أو متعدد الأطراف. و نعتقد أنّ رفع براءات الاختراع عن اللقاحات يسمح بإنتاج أوسع و تسهيل الحصول على البلدان ذات الدخل الضعيف و التي تعيش وضع وبائي مقلق.'\n",
      " 'وزارة الصحة تفتح التسجيلات للراغبين في التلقيح ضد كورونا فتحت مصالح وزارة الصحة موقعها الالكتورني لتسجيل الراغبين في التلقيح ضد كوفيد-19 ” كورونا”. وجاء في بيان الوزارة ان العملية تحت شعار حملة التلقيح: احصل على التلقيح و قل للآخرين ” لقد أخذت اللقاح الخاص بي. ماذا عنك أنت ؟”.\\n\\nودعت الوزارة المواطنين الراغبين في التلقيح ضد كوفيد-19 للتوجه نحو الهياكل الصحية الجوارية المخصّصة لذلك.\\n\\nتُعْطى الأولوية للأشخاص الذين تزيد أعمارهم عن 60 عاما و الأشخاص المصابين بأمراض مزمنة.\\n\\nيرجى إحضار وثيقة الهوية يوم التلقيح.']\n"
     ]
    }
   ],
   "source": [
    "print(X)"
   ]
  },
  {
   "cell_type": "code",
   "execution_count": 13,
   "metadata": {},
   "outputs": [
    {
     "name": "stdout",
     "output_type": "stream",
     "text": [
      "['1' '1' '1' ... '0' '0' '0']\n"
     ]
    }
   ],
   "source": [
    "print(Y)"
   ]
  },
  {
   "cell_type": "markdown",
   "metadata": {},
   "source": [
    "converting the textual data to numerical data"
   ]
  },
  {
   "cell_type": "code",
   "execution_count": 14,
   "metadata": {},
   "outputs": [],
   "source": [
    "vectorizer = TfidfVectorizer()\n",
    "vectorizer.fit(X)\n",
    "\n",
    "X = vectorizer.transform(X)"
   ]
  },
  {
   "cell_type": "code",
   "execution_count": 15,
   "metadata": {},
   "outputs": [
    {
     "name": "stdout",
     "output_type": "stream",
     "text": [
      "  (0, 73070)\t0.040889485404033324\n",
      "  (0, 73036)\t0.04790417315629205\n",
      "  (0, 71485)\t0.044772951167914875\n",
      "  (0, 71461)\t0.10754825248210773\n",
      "  (0, 70122)\t0.045086637110903084\n",
      "  (0, 68373)\t0.05698785391395918\n",
      "  (0, 68202)\t0.0488460932538281\n",
      "  (0, 65867)\t0.03845323475484964\n",
      "  (0, 65725)\t0.06507965246925743\n",
      "  (0, 65244)\t0.03882635907860021\n",
      "  (0, 57577)\t0.04592579359304942\n",
      "  (0, 57566)\t0.05698785391395918\n",
      "  (0, 57208)\t0.016873397751756815\n",
      "  (0, 57011)\t0.06353565284733485\n",
      "  (0, 56944)\t0.13296956351883435\n",
      "  (0, 56896)\t0.06696935528291299\n",
      "  (0, 56478)\t0.05577599694891748\n",
      "  (0, 55717)\t0.06353565284733485\n",
      "  (0, 54880)\t0.02831559804580221\n",
      "  (0, 54205)\t0.06507965246925743\n",
      "  (0, 53708)\t0.04990604386415567\n",
      "  (0, 52548)\t0.04746979321497199\n",
      "  (0, 52474)\t0.324621812486048\n",
      "  (0, 52173)\t0.0728393083676748\n",
      "  (0, 51537)\t0.0338401842317928\n",
      "  :\t:\n",
      "  (3999, 21439)\t0.10643100063440462\n",
      "  (3999, 21432)\t0.11073605088892782\n",
      "  (3999, 20779)\t0.06793056236915303\n",
      "  (3999, 19606)\t0.09836248978450678\n",
      "  (3999, 18892)\t0.13718458135096293\n",
      "  (3999, 17923)\t0.07611536858308372\n",
      "  (3999, 16403)\t0.07063323912979409\n",
      "  (3999, 15590)\t0.06488612574399141\n",
      "  (3999, 15575)\t0.10995284163559883\n",
      "  (3999, 14373)\t0.194370111893909\n",
      "  (3999, 14303)\t0.05834570843401837\n",
      "  (3999, 13803)\t0.07565466494313551\n",
      "  (3999, 13321)\t0.11642085609543948\n",
      "  (3999, 12679)\t0.47169679313100704\n",
      "  (3999, 12242)\t0.12879441719986054\n",
      "  (3999, 11062)\t0.1535415394087026\n",
      "  (3999, 9840)\t0.10244760368108599\n",
      "  (3999, 9479)\t0.08001147306297914\n",
      "  (3999, 7759)\t0.1535415394087026\n",
      "  (3999, 6388)\t0.1535415394087026\n",
      "  (3999, 5689)\t0.12310961199334887\n",
      "  (3999, 5082)\t0.10296506818044109\n",
      "  (3999, 4254)\t0.12155634795339236\n",
      "  (3999, 1287)\t0.08598892868008573\n",
      "  (3999, 402)\t0.11185938556274204\n"
     ]
    }
   ],
   "source": [
    "print(X)"
   ]
  },
  {
   "cell_type": "markdown",
   "metadata": {},
   "source": [
    "Splitting the dataset to training & testing data\n"
   ]
  },
  {
   "cell_type": "code",
   "execution_count": 16,
   "metadata": {},
   "outputs": [],
   "source": [
    "X_train, X_test, Y_train, Y_test = train_test_split(X, Y, test_size = 0.1, stratify=Y, random_state=2)"
   ]
  },
  {
   "cell_type": "markdown",
   "metadata": {},
   "source": [
    "Training the Model: Logistic Regression"
   ]
  },
  {
   "cell_type": "code",
   "execution_count": 17,
   "metadata": {},
   "outputs": [],
   "source": [
    "model = LogisticRegression()"
   ]
  },
  {
   "cell_type": "code",
   "execution_count": 18,
   "metadata": {},
   "outputs": [
    {
     "data": {
      "text/html": [
       "<style>#sk-container-id-1 {color: black;background-color: white;}#sk-container-id-1 pre{padding: 0;}#sk-container-id-1 div.sk-toggleable {background-color: white;}#sk-container-id-1 label.sk-toggleable__label {cursor: pointer;display: block;width: 100%;margin-bottom: 0;padding: 0.3em;box-sizing: border-box;text-align: center;}#sk-container-id-1 label.sk-toggleable__label-arrow:before {content: \"▸\";float: left;margin-right: 0.25em;color: #696969;}#sk-container-id-1 label.sk-toggleable__label-arrow:hover:before {color: black;}#sk-container-id-1 div.sk-estimator:hover label.sk-toggleable__label-arrow:before {color: black;}#sk-container-id-1 div.sk-toggleable__content {max-height: 0;max-width: 0;overflow: hidden;text-align: left;background-color: #f0f8ff;}#sk-container-id-1 div.sk-toggleable__content pre {margin: 0.2em;color: black;border-radius: 0.25em;background-color: #f0f8ff;}#sk-container-id-1 input.sk-toggleable__control:checked~div.sk-toggleable__content {max-height: 200px;max-width: 100%;overflow: auto;}#sk-container-id-1 input.sk-toggleable__control:checked~label.sk-toggleable__label-arrow:before {content: \"▾\";}#sk-container-id-1 div.sk-estimator input.sk-toggleable__control:checked~label.sk-toggleable__label {background-color: #d4ebff;}#sk-container-id-1 div.sk-label input.sk-toggleable__control:checked~label.sk-toggleable__label {background-color: #d4ebff;}#sk-container-id-1 input.sk-hidden--visually {border: 0;clip: rect(1px 1px 1px 1px);clip: rect(1px, 1px, 1px, 1px);height: 1px;margin: -1px;overflow: hidden;padding: 0;position: absolute;width: 1px;}#sk-container-id-1 div.sk-estimator {font-family: monospace;background-color: #f0f8ff;border: 1px dotted black;border-radius: 0.25em;box-sizing: border-box;margin-bottom: 0.5em;}#sk-container-id-1 div.sk-estimator:hover {background-color: #d4ebff;}#sk-container-id-1 div.sk-parallel-item::after {content: \"\";width: 100%;border-bottom: 1px solid gray;flex-grow: 1;}#sk-container-id-1 div.sk-label:hover label.sk-toggleable__label {background-color: #d4ebff;}#sk-container-id-1 div.sk-serial::before {content: \"\";position: absolute;border-left: 1px solid gray;box-sizing: border-box;top: 0;bottom: 0;left: 50%;z-index: 0;}#sk-container-id-1 div.sk-serial {display: flex;flex-direction: column;align-items: center;background-color: white;padding-right: 0.2em;padding-left: 0.2em;position: relative;}#sk-container-id-1 div.sk-item {position: relative;z-index: 1;}#sk-container-id-1 div.sk-parallel {display: flex;align-items: stretch;justify-content: center;background-color: white;position: relative;}#sk-container-id-1 div.sk-item::before, #sk-container-id-1 div.sk-parallel-item::before {content: \"\";position: absolute;border-left: 1px solid gray;box-sizing: border-box;top: 0;bottom: 0;left: 50%;z-index: -1;}#sk-container-id-1 div.sk-parallel-item {display: flex;flex-direction: column;z-index: 1;position: relative;background-color: white;}#sk-container-id-1 div.sk-parallel-item:first-child::after {align-self: flex-end;width: 50%;}#sk-container-id-1 div.sk-parallel-item:last-child::after {align-self: flex-start;width: 50%;}#sk-container-id-1 div.sk-parallel-item:only-child::after {width: 0;}#sk-container-id-1 div.sk-dashed-wrapped {border: 1px dashed gray;margin: 0 0.4em 0.5em 0.4em;box-sizing: border-box;padding-bottom: 0.4em;background-color: white;}#sk-container-id-1 div.sk-label label {font-family: monospace;font-weight: bold;display: inline-block;line-height: 1.2em;}#sk-container-id-1 div.sk-label-container {text-align: center;}#sk-container-id-1 div.sk-container {/* jupyter's `normalize.less` sets `[hidden] { display: none; }` but bootstrap.min.css set `[hidden] { display: none !important; }` so we also need the `!important` here to be able to override the default hidden behavior on the sphinx rendered scikit-learn.org. See: https://github.com/scikit-learn/scikit-learn/issues/21755 */display: inline-block !important;position: relative;}#sk-container-id-1 div.sk-text-repr-fallback {display: none;}</style><div id=\"sk-container-id-1\" class=\"sk-top-container\"><div class=\"sk-text-repr-fallback\"><pre>LogisticRegression()</pre><b>In a Jupyter environment, please rerun this cell to show the HTML representation or trust the notebook. <br />On GitHub, the HTML representation is unable to render, please try loading this page with nbviewer.org.</b></div><div class=\"sk-container\" hidden><div class=\"sk-item\"><div class=\"sk-estimator sk-toggleable\"><input class=\"sk-toggleable__control sk-hidden--visually\" id=\"sk-estimator-id-1\" type=\"checkbox\" checked><label for=\"sk-estimator-id-1\" class=\"sk-toggleable__label sk-toggleable__label-arrow\">LogisticRegression</label><div class=\"sk-toggleable__content\"><pre>LogisticRegression()</pre></div></div></div></div></div>"
      ],
      "text/plain": [
       "LogisticRegression()"
      ]
     },
     "execution_count": 18,
     "metadata": {},
     "output_type": "execute_result"
    }
   ],
   "source": [
    "model.fit(X_train, Y_train)"
   ]
  },
  {
   "cell_type": "markdown",
   "metadata": {},
   "source": [
    "Evaluation"
   ]
  },
  {
   "cell_type": "markdown",
   "metadata": {},
   "source": [
    "Accuracy score on the training data"
   ]
  },
  {
   "cell_type": "code",
   "execution_count": 19,
   "metadata": {},
   "outputs": [],
   "source": [
    "X_train_prediction = model.predict(X_train)\n",
    "training_data_accuracy = accuracy_score(X_train_prediction, Y_train)"
   ]
  },
  {
   "cell_type": "code",
   "execution_count": 20,
   "metadata": {},
   "outputs": [
    {
     "name": "stdout",
     "output_type": "stream",
     "text": [
      "Accuracy score of the training data :  0.9919444444444444\n"
     ]
    }
   ],
   "source": [
    "print('Accuracy score of the training data : ', training_data_accuracy)"
   ]
  },
  {
   "cell_type": "markdown",
   "metadata": {},
   "source": [
    "Accuracy score on the testing data"
   ]
  },
  {
   "cell_type": "code",
   "execution_count": 21,
   "metadata": {},
   "outputs": [],
   "source": [
    "X_test_prediction = model.predict(X_test)\n",
    "test_data_accuracy = accuracy_score(X_test_prediction, Y_test)"
   ]
  },
  {
   "cell_type": "code",
   "execution_count": 22,
   "metadata": {},
   "outputs": [
    {
     "name": "stdout",
     "output_type": "stream",
     "text": [
      "Accuracy score of the testing data :  0.9675\n"
     ]
    }
   ],
   "source": [
    "print('Accuracy score of the testing data : ', test_data_accuracy)"
   ]
  },
  {
   "cell_type": "markdown",
   "metadata": {},
   "source": [
    "Making a Predictive System"
   ]
  },
  {
   "cell_type": "code",
   "execution_count": 40,
   "metadata": {},
   "outputs": [
    {
     "name": "stdout",
     "output_type": "stream",
     "text": [
      "['1']\n",
      "The news is Real\n"
     ]
    }
   ],
   "source": [
    "X_new = X_test[0] #This is used to get the first row news from the testing data\n",
    "#the test vale is 0.1 so the first row news is taken from the testing data\n",
    "#we have here 400 from X_test[0] to X_test[399]\n",
    "\n",
    "prediction = model.predict(X_new)\n",
    "print(prediction)\n",
    "\n",
    "if (prediction[0]==0):\n",
    "  print('The news is Fake')\n",
    "else:\n",
    "  print('The news is Real')"
   ]
  },
  {
   "cell_type": "code",
   "execution_count": 36,
   "metadata": {},
   "outputs": [
    {
     "name": "stdout",
     "output_type": "stream",
     "text": [
      "1\n"
     ]
    }
   ],
   "source": [
    "print(Y_test[0])"
   ]
  },
  {
   "cell_type": "code",
   "execution_count": 25,
   "metadata": {},
   "outputs": [],
   "source": [
    "pickle.dump(model,open('LogisticModelVer2.pkl', 'wb'))\n",
    "pickle.dump(vectorizer,open('tfidfVer2.pkl','wb'))"
   ]
  }
 ],
 "metadata": {
  "kernelspec": {
   "display_name": "Python 3.9.9 64-bit",
   "language": "python",
   "name": "python3"
  },
  "language_info": {
   "codemirror_mode": {
    "name": "ipython",
    "version": 3
   },
   "file_extension": ".py",
   "mimetype": "text/x-python",
   "name": "python",
   "nbconvert_exporter": "python",
   "pygments_lexer": "ipython3",
   "version": "3.9.9"
  },
  "orig_nbformat": 4,
  "vscode": {
   "interpreter": {
    "hash": "1cb3ca32b4003481f04dbb11dd3ac5283f41561b0e63262b16274901c88448a8"
   }
  }
 },
 "nbformat": 4,
 "nbformat_minor": 2
}
